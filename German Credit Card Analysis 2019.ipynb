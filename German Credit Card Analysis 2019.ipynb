{
 "cells": [
  {
   "cell_type": "code",
   "execution_count": 146,
   "metadata": {},
   "outputs": [],
   "source": [
    "import pandas as pd\n",
    "import numpy as np\n",
    "import matplotlib.pyplot as plt\n",
    "from matplotlib import cm\n",
    "import seaborn as sns\n",
    "from sklearn.model_selection import train_test_split, cross_val_score, cross_val_predict, GridSearchCV\n",
    "from sklearn.base import BaseEstimator, TransformerMixin\n",
    "from sklearn.preprocessing import OneHotEncoder, StandardScaler\n",
    "from sklearn.pipeline import Pipeline\n",
    "from sklearn.compose import ColumnTransformer\n",
    "from sklearn.linear_model import LogisticRegression, SGDClassifier\n",
    "from sklearn.metrics import accuracy_score, confusion_matrix, precision_score, recall_score\n",
    "from sklearn.metrics import f1_score, roc_curve\n",
    "from sklearn.tree import DecisionTreeClassifier\n",
    "from sklearn.ensemble import RandomForestClassifier\n",
    "from sklearn.neural_network import MLPClassifier\n",
    "\n",
    "from plotly import tools\n",
    "import plotly.plotly as py\n",
    "import plotly.graph_objs as go\n",
    "f = open('plotlyapi.txt', \"r\")\n",
    "import warnings\n",
    "warnings.filterwarnings('ignore')\n",
    "%matplotlib inline\n",
    "tools.set_credentials_file(username='mherdt', api_key=f)"
   ]
  },
  {
   "cell_type": "markdown",
   "metadata": {},
   "source": [
    "# Reading the data"
   ]
  },
  {
   "cell_type": "code",
   "execution_count": 147,
   "metadata": {},
   "outputs": [
    {
     "data": {
      "text/html": [
       "<div>\n",
       "<style scoped>\n",
       "    .dataframe tbody tr th:only-of-type {\n",
       "        vertical-align: middle;\n",
       "    }\n",
       "\n",
       "    .dataframe tbody tr th {\n",
       "        vertical-align: top;\n",
       "    }\n",
       "\n",
       "    .dataframe thead th {\n",
       "        text-align: right;\n",
       "    }\n",
       "</style>\n",
       "<table border=\"1\" class=\"dataframe\">\n",
       "  <thead>\n",
       "    <tr style=\"text-align: right;\">\n",
       "      <th></th>\n",
       "      <th>Age</th>\n",
       "      <th>Sex</th>\n",
       "      <th>Job</th>\n",
       "      <th>Housing</th>\n",
       "      <th>Saving accounts</th>\n",
       "      <th>Checking account</th>\n",
       "      <th>Credit amount</th>\n",
       "      <th>Duration</th>\n",
       "      <th>Purpose</th>\n",
       "      <th>Risk</th>\n",
       "    </tr>\n",
       "  </thead>\n",
       "  <tbody>\n",
       "    <tr>\n",
       "      <th>0</th>\n",
       "      <td>67</td>\n",
       "      <td>male</td>\n",
       "      <td>2</td>\n",
       "      <td>own</td>\n",
       "      <td>NaN</td>\n",
       "      <td>little</td>\n",
       "      <td>1169</td>\n",
       "      <td>6</td>\n",
       "      <td>radio/TV</td>\n",
       "      <td>good</td>\n",
       "    </tr>\n",
       "    <tr>\n",
       "      <th>1</th>\n",
       "      <td>22</td>\n",
       "      <td>female</td>\n",
       "      <td>2</td>\n",
       "      <td>own</td>\n",
       "      <td>little</td>\n",
       "      <td>moderate</td>\n",
       "      <td>5951</td>\n",
       "      <td>48</td>\n",
       "      <td>radio/TV</td>\n",
       "      <td>bad</td>\n",
       "    </tr>\n",
       "    <tr>\n",
       "      <th>2</th>\n",
       "      <td>49</td>\n",
       "      <td>male</td>\n",
       "      <td>1</td>\n",
       "      <td>own</td>\n",
       "      <td>little</td>\n",
       "      <td>NaN</td>\n",
       "      <td>2096</td>\n",
       "      <td>12</td>\n",
       "      <td>education</td>\n",
       "      <td>good</td>\n",
       "    </tr>\n",
       "    <tr>\n",
       "      <th>3</th>\n",
       "      <td>45</td>\n",
       "      <td>male</td>\n",
       "      <td>2</td>\n",
       "      <td>free</td>\n",
       "      <td>little</td>\n",
       "      <td>little</td>\n",
       "      <td>7882</td>\n",
       "      <td>42</td>\n",
       "      <td>furniture/equipment</td>\n",
       "      <td>good</td>\n",
       "    </tr>\n",
       "    <tr>\n",
       "      <th>4</th>\n",
       "      <td>53</td>\n",
       "      <td>male</td>\n",
       "      <td>2</td>\n",
       "      <td>free</td>\n",
       "      <td>little</td>\n",
       "      <td>little</td>\n",
       "      <td>4870</td>\n",
       "      <td>24</td>\n",
       "      <td>car</td>\n",
       "      <td>bad</td>\n",
       "    </tr>\n",
       "  </tbody>\n",
       "</table>\n",
       "</div>"
      ],
      "text/plain": [
       "   Age     Sex  Job Housing Saving accounts Checking account  Credit amount  \\\n",
       "0   67    male    2     own             NaN           little           1169   \n",
       "1   22  female    2     own          little         moderate           5951   \n",
       "2   49    male    1     own          little              NaN           2096   \n",
       "3   45    male    2    free          little           little           7882   \n",
       "4   53    male    2    free          little           little           4870   \n",
       "\n",
       "   Duration              Purpose  Risk  \n",
       "0         6             radio/TV  good  \n",
       "1        48             radio/TV   bad  \n",
       "2        12            education  good  \n",
       "3        42  furniture/equipment  good  \n",
       "4        24                  car   bad  "
      ]
     },
     "execution_count": 147,
     "metadata": {},
     "output_type": "execute_result"
    }
   ],
   "source": [
    "df = pd.read_csv(\"german_credit_data.csv\", index_col=0)\n",
    "df.head(5)"
   ]
  },
  {
   "cell_type": "markdown",
   "metadata": {},
   "source": [
    "Renaming the columns:"
   ]
  },
  {
   "cell_type": "code",
   "execution_count": 148,
   "metadata": {},
   "outputs": [
    {
     "data": {
      "text/html": [
       "<div>\n",
       "<style scoped>\n",
       "    .dataframe tbody tr th:only-of-type {\n",
       "        vertical-align: middle;\n",
       "    }\n",
       "\n",
       "    .dataframe tbody tr th {\n",
       "        vertical-align: top;\n",
       "    }\n",
       "\n",
       "    .dataframe thead th {\n",
       "        text-align: right;\n",
       "    }\n",
       "</style>\n",
       "<table border=\"1\" class=\"dataframe\">\n",
       "  <thead>\n",
       "    <tr style=\"text-align: right;\">\n",
       "      <th></th>\n",
       "      <th>age</th>\n",
       "      <th>sex</th>\n",
       "      <th>job</th>\n",
       "      <th>housing</th>\n",
       "      <th>saving_accounts</th>\n",
       "      <th>checking_account</th>\n",
       "      <th>credit_amount</th>\n",
       "      <th>duration</th>\n",
       "      <th>purpose</th>\n",
       "      <th>risk</th>\n",
       "    </tr>\n",
       "  </thead>\n",
       "  <tbody>\n",
       "    <tr>\n",
       "      <th>0</th>\n",
       "      <td>67</td>\n",
       "      <td>male</td>\n",
       "      <td>2</td>\n",
       "      <td>own</td>\n",
       "      <td>NaN</td>\n",
       "      <td>little</td>\n",
       "      <td>1169</td>\n",
       "      <td>6</td>\n",
       "      <td>radio/TV</td>\n",
       "      <td>good</td>\n",
       "    </tr>\n",
       "    <tr>\n",
       "      <th>1</th>\n",
       "      <td>22</td>\n",
       "      <td>female</td>\n",
       "      <td>2</td>\n",
       "      <td>own</td>\n",
       "      <td>little</td>\n",
       "      <td>moderate</td>\n",
       "      <td>5951</td>\n",
       "      <td>48</td>\n",
       "      <td>radio/TV</td>\n",
       "      <td>bad</td>\n",
       "    </tr>\n",
       "    <tr>\n",
       "      <th>2</th>\n",
       "      <td>49</td>\n",
       "      <td>male</td>\n",
       "      <td>1</td>\n",
       "      <td>own</td>\n",
       "      <td>little</td>\n",
       "      <td>NaN</td>\n",
       "      <td>2096</td>\n",
       "      <td>12</td>\n",
       "      <td>education</td>\n",
       "      <td>good</td>\n",
       "    </tr>\n",
       "    <tr>\n",
       "      <th>3</th>\n",
       "      <td>45</td>\n",
       "      <td>male</td>\n",
       "      <td>2</td>\n",
       "      <td>free</td>\n",
       "      <td>little</td>\n",
       "      <td>little</td>\n",
       "      <td>7882</td>\n",
       "      <td>42</td>\n",
       "      <td>furniture/equipment</td>\n",
       "      <td>good</td>\n",
       "    </tr>\n",
       "    <tr>\n",
       "      <th>4</th>\n",
       "      <td>53</td>\n",
       "      <td>male</td>\n",
       "      <td>2</td>\n",
       "      <td>free</td>\n",
       "      <td>little</td>\n",
       "      <td>little</td>\n",
       "      <td>4870</td>\n",
       "      <td>24</td>\n",
       "      <td>car</td>\n",
       "      <td>bad</td>\n",
       "    </tr>\n",
       "  </tbody>\n",
       "</table>\n",
       "</div>"
      ],
      "text/plain": [
       "   age     sex  job housing saving_accounts checking_account  credit_amount  \\\n",
       "0   67    male    2     own             NaN           little           1169   \n",
       "1   22  female    2     own          little         moderate           5951   \n",
       "2   49    male    1     own          little              NaN           2096   \n",
       "3   45    male    2    free          little           little           7882   \n",
       "4   53    male    2    free          little           little           4870   \n",
       "\n",
       "   duration              purpose  risk  \n",
       "0         6             radio/TV  good  \n",
       "1        48             radio/TV   bad  \n",
       "2        12            education  good  \n",
       "3        42  furniture/equipment  good  \n",
       "4        24                  car   bad  "
      ]
     },
     "execution_count": 148,
     "metadata": {},
     "output_type": "execute_result"
    }
   ],
   "source": [
    "df.columns = [col.replace(' ', '_').lower() for col in df.columns]\n",
    "\n",
    "df.head()"
   ]
  },
  {
   "cell_type": "markdown",
   "metadata": {},
   "source": [
    "more information on the data set checking for non and zero values. "
   ]
  },
  {
   "cell_type": "code",
   "execution_count": 149,
   "metadata": {},
   "outputs": [
    {
     "name": "stdout",
     "output_type": "stream",
     "text": [
      "<class 'pandas.core.frame.DataFrame'>\n",
      "Int64Index: 1000 entries, 0 to 999\n",
      "Data columns (total 10 columns):\n",
      "age                 1000 non-null int64\n",
      "sex                 1000 non-null object\n",
      "job                 1000 non-null int64\n",
      "housing             1000 non-null object\n",
      "saving_accounts     817 non-null object\n",
      "checking_account    606 non-null object\n",
      "credit_amount       1000 non-null int64\n",
      "duration            1000 non-null int64\n",
      "purpose             1000 non-null object\n",
      "risk                1000 non-null object\n",
      "dtypes: int64(4), object(6)\n",
      "memory usage: 85.9+ KB\n"
     ]
    },
    {
     "data": {
      "text/plain": [
       "checking_account    394\n",
       "saving_accounts     183\n",
       "risk                  0\n",
       "purpose               0\n",
       "duration              0\n",
       "credit_amount         0\n",
       "housing               0\n",
       "job                   0\n",
       "sex                   0\n",
       "age                   0\n",
       "dtype: int64"
      ]
     },
     "execution_count": 149,
     "metadata": {},
     "output_type": "execute_result"
    }
   ],
   "source": [
    "df.info()\n",
    "df.describe()\n",
    "df.columns\n",
    "df.isnull().sum().sort_values(ascending=False)"
   ]
  },
  {
   "cell_type": "markdown",
   "metadata": {},
   "source": [
    "We creating new columns for further EDA."
   ]
  },
  {
   "cell_type": "code",
   "execution_count": 150,
   "metadata": {},
   "outputs": [],
   "source": [
    "##### Gender Analysis\n",
    "\n",
    "df['sex'].value_counts()\n",
    "\n",
    "by_age = df['age'].values.tolist()\n",
    "male_age = df['age'].loc[df['sex'] == 'male'].values.tolist()\n",
    "female_age = df['age'].loc[df['sex'] == 'female'].values.tolist()\n",
    "\n"
   ]
  },
  {
   "cell_type": "code",
   "execution_count": 151,
   "metadata": {},
   "outputs": [
    {
     "name": "stdout",
     "output_type": "stream",
     "text": [
      "This is the format of your plot grid:\n",
      "[ (1,1) x1,y1 ]  [ (1,2) x2,y2 ]\n",
      "[ (2,1) x3,y3           -      ]\n",
      "\n"
     ]
    },
    {
     "data": {
      "text/html": [
       "<iframe id=\"igraph\" scrolling=\"no\" style=\"border:none;\" seamless=\"seamless\" src=\"https://plot.ly/~mherdt/51.embed\" height=\"525px\" width=\"100%\"></iframe>"
      ],
      "text/plain": [
       "<plotly.tools.PlotlyDisplay object>"
      ]
     },
     "execution_count": 151,
     "metadata": {},
     "output_type": "execute_result"
    }
   ],
   "source": [
    "\n",
    "\n",
    "\n",
    "trace0 = go.Histogram(\n",
    "   x=male_age,\n",
    "   histnorm='probability',\n",
    "   name=\"German Male\",\n",
    "   marker = dict(\n",
    "       color = 'rgba(100, 149, 237, 0.6)',\n",
    "   )\n",
    ")\n",
    "trace1 = go.Histogram(\n",
    "   x=female_age,\n",
    "   histnorm='probability',\n",
    "   name=\"German Female\",\n",
    "   marker = dict(\n",
    "       color = 'rgba(255, 182, 193, 0.6)',\n",
    "   )\n",
    ")\n",
    "trace2 = go.Histogram(\n",
    "   x=by_age,\n",
    "   histnorm='probability',\n",
    "   name=\"Overall Gender\",\n",
    "    marker = dict(\n",
    "       color = 'rgba(169, 169, 169, 0.6)',\n",
    "   )\n",
    ")\n",
    "fig = tools.make_subplots(rows=2, cols=2, specs=[[{}, {}], [{'colspan': 2}, None]],\n",
    "                         subplot_titles=('Males','Female', 'All Genders'))\n",
    "\n",
    "fig.append_trace(trace0, 1, 1)\n",
    "fig.append_trace(trace1, 1, 2)\n",
    "fig.append_trace(trace2, 2, 1)\n",
    "\n",
    "fig['layout'].update(showlegend=True, title='Distribution of Gender', bargap=0.05)\n",
    "py.iplot(fig, filename='stacked histogram')"
   ]
  },
  {
   "cell_type": "code",
   "execution_count": 152,
   "metadata": {},
   "outputs": [
    {
     "data": {
      "text/html": [
       "<iframe id=\"igraph\" scrolling=\"no\" style=\"border:none;\" seamless=\"seamless\" src=\"https://plot.ly/~mherdt/55.embed\" height=\"525px\" width=\"100%\"></iframe>"
      ],
      "text/plain": [
       "<plotly.tools.PlotlyDisplay object>"
      ]
     },
     "execution_count": 152,
     "metadata": {},
     "output_type": "execute_result"
    }
   ],
   "source": [
    "import plotly.figure_factory as ff\n",
    "# Group data together\n",
    "hist_data = [by_age, female_age, male_age]\n",
    "\n",
    "group_labels = ['Overall Gender', 'German Female', 'German Male']\n",
    "\n",
    "colors = ['#A56CC1', '#A6ACEC', '#63F5EF']\n",
    "\n",
    "# Create distplot with curve_type set to 'normal'\n",
    "fig = ff.create_distplot(hist_data, group_labels, colors=colors,\n",
    "                         bin_size=3, show_rug=False)\n",
    "\n",
    "# Add title\n",
    "fig['layout'].update(title='Hist and Curve Plot')\n",
    "\n",
    "# Plot!\n",
    "py.iplot(fig, filename='Hist and Curve')"
   ]
  },
  {
   "cell_type": "code",
   "execution_count": 153,
   "metadata": {},
   "outputs": [
    {
     "data": {
      "text/html": [
       "<iframe id=\"igraph\" scrolling=\"no\" style=\"border:none;\" seamless=\"seamless\" src=\"https://plot.ly/~mherdt/57.embed\" height=\"600px\" width=\"600px\"></iframe>"
      ],
      "text/plain": [
       "<plotly.tools.PlotlyDisplay object>"
      ]
     },
     "execution_count": 153,
     "metadata": {},
     "output_type": "execute_result"
    }
   ],
   "source": [
    "x = male_age\n",
    "y = female_age\n",
    "\n",
    "\n",
    "data = [\n",
    "    go.Histogram2dContour(\n",
    "        x = x,\n",
    "        y = y,\n",
    "        colorscale = 'Blues',\n",
    "        reversescale = True,\n",
    "        xaxis = 'x',\n",
    "        yaxis = 'y'\n",
    "    ),\n",
    "    go.Scatter(\n",
    "        x = x,\n",
    "        y = y,\n",
    "        xaxis = 'x',\n",
    "        yaxis = 'y',\n",
    "        mode = 'markers',\n",
    "        marker = dict(\n",
    "            color = 'rgba(0,0,0,0.3)',\n",
    "            size = 3\n",
    "        )\n",
    "    ),\n",
    "    go.Histogram(\n",
    "        y = y,\n",
    "        xaxis = 'x2',\n",
    "        marker = dict(\n",
    "            color = 'rgba(0,0,0,1)'\n",
    "        )\n",
    "    ),\n",
    "    go.Histogram(\n",
    "        x = x,\n",
    "        yaxis = 'y2',\n",
    "        marker = dict(\n",
    "            color = 'rgba(0,0,0,1)'\n",
    "        )\n",
    "    )\n",
    "]\n",
    "\n",
    "layout = go.Layout(\n",
    "    autosize = False,\n",
    "    xaxis = dict(\n",
    "        zeroline = False,\n",
    "        domain = [0,0.85],\n",
    "        showgrid = False\n",
    "    ),\n",
    "    yaxis = dict(\n",
    "        zeroline = False,\n",
    "        domain = [0,0.85],\n",
    "        showgrid = False\n",
    "    ),\n",
    "    xaxis2 = dict(\n",
    "        zeroline = False,\n",
    "        domain = [0.85,1],\n",
    "        showgrid = False\n",
    "    ),\n",
    "    yaxis2 = dict(\n",
    "        zeroline = False,\n",
    "        domain = [0.85,1],\n",
    "        showgrid = False\n",
    "    ),\n",
    "    height = 600,\n",
    "    width = 600,\n",
    "    bargap = 0,\n",
    "    hovermode = 'closest',\n",
    "    showlegend = False\n",
    ")\n",
    "\n",
    "\n",
    "\n",
    "fig = go.Figure(data=data,layout=layout)\n",
    "fig['layout'].update(title='Histogram 2d Contour Male / Female')\n",
    "py.iplot(fig, filename='Histogram2dContour Subplot')"
   ]
  },
  {
   "cell_type": "code",
   "execution_count": 154,
   "metadata": {},
   "outputs": [
    {
     "name": "stdout",
     "output_type": "stream",
     "text": [
      "sex                     female       male\n",
      "purpose                                  \n",
      "business              6.129032  11.304348\n",
      "car                  30.322581  35.217391\n",
      "domestic appliances   1.935484   0.869565\n",
      "education             7.741935   5.072464\n",
      "furniture/equipment  23.870968  15.507246\n",
      "radio/TV             27.419355  28.260870\n",
      "repairs               1.612903   2.463768\n",
      "vacation/others       0.967742   1.304348\n",
      "purpose\n",
      "business               11.304348\n",
      "car                    35.217391\n",
      "domestic appliances     0.869565\n",
      "education               5.072464\n",
      "furniture/equipment    15.507246\n",
      "radio/TV               28.260870\n",
      "repairs                 2.463768\n",
      "vacation/others         1.304348\n",
      "Name: male, dtype: float64\n"
     ]
    }
   ],
   "source": [
    "######## Purpose analysis\n",
    "\n",
    "df['purpose'].unique()\n",
    "sex_purpose = pd.crosstab(df['purpose'], df['sex']).apply(lambda x: x/x.sum() * 100)\n",
    "print(sex_purpose)\n",
    "\n",
    "purpose = df['purpose'].unique().tolist()\n",
    "#purpose = ['radio/TV', 'education', 'furniture/equipment', 'car', 'business',\n",
    "       #'domestic appliances', 'repairs', 'vacation/others']\n",
    "#np.asarray(purpose)\n",
    "m_purpose = sex_purpose['male']\n",
    "f_purpose = sex_purpose['female']\n",
    "\n",
    "print(m_purpose)\n",
    "\n"
   ]
  },
  {
   "cell_type": "code",
   "execution_count": 155,
   "metadata": {},
   "outputs": [
    {
     "data": {
      "text/html": [
       "<iframe id=\"igraph\" scrolling=\"no\" style=\"border:none;\" seamless=\"seamless\" src=\"https://plot.ly/~mherdt/59.embed\" height=\"525px\" width=\"100%\"></iframe>"
      ],
      "text/plain": [
       "<plotly.tools.PlotlyDisplay object>"
      ]
     },
     "execution_count": 155,
     "metadata": {},
     "output_type": "execute_result"
    }
   ],
   "source": [
    "\n",
    "x = purpose\n",
    "y = m_purpose\n",
    "y2 = f_purpose\n",
    "\n",
    "trace1 = go.Bar(\n",
    "    x=x,\n",
    "    y=y,\n",
    "    text=y,\n",
    "    textposition = 'auto',\n",
    "    name='Gender Male Purpose',\n",
    "    marker=dict(\n",
    "        color='rgb(158,202,225)',\n",
    "        line=dict(\n",
    "            color='rgb(8,48,107)',\n",
    "            width=1.5),\n",
    "        ),\n",
    "    opacity=0.6\n",
    ")\n",
    "\n",
    "trace2 = go.Bar(\n",
    "    x=x,\n",
    "    y=y2,\n",
    "    text=y2,\n",
    "    textposition = 'auto',\n",
    "    name='Gender Female Purpose',\n",
    "    marker=dict(\n",
    "        color='rgb(58,200,225)',\n",
    "        line=dict(\n",
    "            color='rgb(8,48,107)',\n",
    "            width=1.5),\n",
    "        ),\n",
    "    opacity=0.6\n",
    ")\n",
    "\n",
    "data = [trace1,trace2]\n",
    "\n",
    "fig['layout'].update(title='Purpose Male / Female')\n",
    "py.iplot(data, filename='grouped-bar-direct-labels')"
   ]
  },
  {
   "cell_type": "code",
   "execution_count": 156,
   "metadata": {},
   "outputs": [],
   "source": [
    "################ Number of Jobs\n",
    "\n",
    "number_of_jobs = pd.crosstab(df[\"job\"], df[\"sex\"]).apply(lambda x: x/x.sum() * 100)\n",
    "number_of_jobs\n",
    "\n",
    "job_number_m = number_of_jobs[\"male\"].values.tolist()\n",
    "job_number_f = number_of_jobs[\"female\"].values.tolist()\n"
   ]
  },
  {
   "cell_type": "code",
   "execution_count": 157,
   "metadata": {},
   "outputs": [
    {
     "data": {
      "text/html": [
       "<iframe id=\"igraph\" scrolling=\"no\" style=\"border:none;\" seamless=\"seamless\" src=\"https://plot.ly/~mherdt/61.embed\" height=\"525px\" width=\"100%\"></iframe>"
      ],
      "text/plain": [
       "<plotly.tools.PlotlyDisplay object>"
      ]
     },
     "execution_count": 157,
     "metadata": {},
     "output_type": "execute_result"
    }
   ],
   "source": [
    "fig = {\n",
    "    'data': [\n",
    "        {\n",
    "            'labels': ['Unemployed','One Jobs','Two Jobs','Three Jobs'],\n",
    "            'values': job_number_m,\n",
    "            'type': 'pie',\n",
    "            'name': 'Male',\n",
    "            'marker': {'colors': ['rgb(56, 75, 126)',\n",
    "                                  'rgb(18, 36, 37)',\n",
    "                                  'rgb(34, 53, 101)',\n",
    "                                  'rgb(36, 55, 57)'\n",
    "                                  ]},\n",
    "\n",
    "            'hoverinfo':'label+percent+name',\n",
    "            \"domain\": {\"column\": 0},\n",
    "            'textinfo':'percent'\n",
    "        },\n",
    "        {\n",
    "            'labels': ['Unemployed','One Jobs','Two Jobs','Three Jobs'],\n",
    "            'values': job_number_f,\n",
    "            'marker': {'colors': ['rgb(177, 127, 38)',\n",
    "                                  'rgb(205, 152, 36)',\n",
    "                                  'rgb(99, 79, 37)',\n",
    "                                  'rgb(129, 180, 179)']},\n",
    "            'type': 'pie',\n",
    "            'name': 'Female',\n",
    "\n",
    "            'hoverinfo':'label+percent+name',\n",
    "            \"domain\": {\"column\": 1},\n",
    "            'textinfo':'percent'\n",
    "\n",
    "        }    ],\n",
    "\n",
    "    'layout': {'title': 'Number of Jobs: Male (left) and Female (right)',\n",
    "               \"grid\": {\"rows\": 1, \"columns\": 2},\n",
    "               'showlegend': True}\n",
    "}\n",
    "\n",
    "py.iplot(fig, filename='pie_chart_subplots')"
   ]
  },
  {
   "cell_type": "code",
   "execution_count": 158,
   "metadata": {},
   "outputs": [],
   "source": [
    "df['Age_Group'] = np.nan\n",
    "df.loc[(df['age'] > 18) & (df['age'] <= 29), 'Age_Group'] = 'Young'\n",
    "df.loc[(df['age'] > 29) & (df['age'] <= 40), 'Age_Group'] = 'Young Adults'\n",
    "df.loc[(df['age'] > 40) & (df['age'] <= 55), 'Age_Group'] = 'Senior'\n",
    "df.loc[df['age'] > 55, 'Age_Group'] = 'Elder'\n",
    "\n",
    "\n",
    "# Credit Amount in die Liste \n",
    "young = df['credit_amount'].loc[df['Age_Group'] == 'Young'].values.tolist()\n",
    "young_adults = df['credit_amount'].loc[df['Age_Group'] == 'Young Adults'].values.tolist()\n",
    "senior = df['credit_amount'].loc[df['Age_Group'] == 'Senior'].values.tolist()\n",
    "elder_credit = df['credit_amount'].loc[df['Age_Group'] == 'Elder'].values.tolist()"
   ]
  },
  {
   "cell_type": "code",
   "execution_count": 159,
   "metadata": {},
   "outputs": [],
   "source": [
    "############ Good vs. Bad Credit \n",
    "good_credit_df = df.loc[df['risk'] == \"good\"]\n",
    "bad_credit_df = df.loc[df['risk'] == \"bad\"]\n",
    "#good_credit_df.groupby(['Age_Group']).get_group('Young')\n",
    "young2 = df[['credit_amount','risk']].loc[df['Age_Group'] == 'Young']\n",
    "young_adults2= df[['credit_amount','risk']].loc[df['Age_Group'] == 'Young Adults']\n",
    "senior2 = df[['credit_amount','risk']].loc[df['Age_Group'] == 'Senior']\n",
    "elder_credit2 = df[['credit_amount','risk']].loc[df['Age_Group'] == 'Elder']"
   ]
  },
  {
   "cell_type": "code",
   "execution_count": 183,
   "metadata": {},
   "outputs": [
    {
     "data": {
      "text/html": [
       "<iframe id=\"igraph\" scrolling=\"no\" style=\"border:none;\" seamless=\"seamless\" src=\"https://plot.ly/~mherdt/64.embed\" height=\"525px\" width=\"100%\"></iframe>"
      ],
      "text/plain": [
       "<plotly.tools.PlotlyDisplay object>"
      ]
     },
     "execution_count": 183,
     "metadata": {},
     "output_type": "execute_result"
    }
   ],
   "source": [
    "trace0 = go.Box(\n",
    "    y=good_credit_df[\"credit_amount\"],\n",
    "    x=good_credit_df[\"Age_Group\"],\n",
    "    name='Good credit',\n",
    "    marker=dict(\n",
    "        color='#3D9970'\n",
    "    )\n",
    ")\n",
    "\n",
    "trace1 = go.Box(\n",
    "    y=bad_credit_df['credit_amount'],\n",
    "    x=bad_credit_df ['Age_Group'],\n",
    "    name='Bad credit',\n",
    "    marker=dict(\n",
    "        color='#FF4136'\n",
    "    )\n",
    ")\n",
    "    \n",
    "data = [trace0, trace1]\n",
    "\n",
    "layout = go.Layout(\n",
    "    yaxis=dict(\n",
    "        title='Credit Amount (US Dollar)',\n",
    "        zeroline=False\n",
    "    ),\n",
    "    xaxis=dict(\n",
    "        title='Age Categorical'\n",
    "    ),\n",
    "    boxmode='group'\n",
    ")\n",
    "fig = go.Figure(data=data, layout=layout)\n",
    "\n",
    "py.iplot(fig, filename='box-age-cat')"
   ]
  },
  {
   "cell_type": "code",
   "execution_count": 160,
   "metadata": {},
   "outputs": [
    {
     "data": {
      "text/plain": [
       "<matplotlib.legend.Legend at 0x1a26d1d3c8>"
      ]
     },
     "execution_count": 160,
     "metadata": {},
     "output_type": "execute_result"
    },
    {
     "data": {
      "image/png": "[encoded data removed]",
      "text/plain": [
       "<Figure size 1080x576 with 4 Axes>"
      ]
     },
     "metadata": {
      "needs_background": "light"
     },
     "output_type": "display_data"
    }
   ],
   "source": [
    "fig6, ax6 =plt.subplots(2,2, figsize=(15,8))\n",
    "fig6.suptitle('Distribution of Credit Borrowed by Age Group', fontsize=10)\n",
    "\n",
    "\n",
    "sns.kdeplot(young2['credit_amount'].loc[young2['risk'] == 'good'], shade=True, color=\"g\", ax =ax6[0][0])\n",
    "sns.kdeplot(young2['credit_amount'].loc[young2['risk'] == 'bad'], shade=True, color=\"r\",ax =ax6[0][0])\n",
    "ax6[0][0].title.set_text('Young')\n",
    "ax6[0][0].legend(['Good','Bad'])\n",
    "\n",
    "sns.kdeplot(young_adults2['credit_amount'].loc[young_adults2['risk'] == 'good'], shade=True, color=\"g\",ax =ax6[0][1])    \n",
    "sns.kdeplot(young_adults2['credit_amount'].loc[young_adults2['risk'] == 'bad'], shade=True, color=\"r\",ax =ax6[0][1])   \n",
    "ax6[0][1].title.set_text('Young_Adults')\n",
    "ax6[0][1].legend(['Good','Bad'])\n",
    "\n",
    "sns.kdeplot(senior2['credit_amount'].loc[senior2['risk'] == 'good'], shade=True, color=\"g\",ax =ax6[1][0])\n",
    "sns.kdeplot(senior2['credit_amount'].loc[senior2['risk'] == 'bad'], shade=True, color=\"r\",ax =ax6[1][0]) \n",
    "ax6[1][0].title.set_text('Senior')\n",
    "ax6[1][0].legend(['Good','Bad'])\n",
    "\n",
    "sns.kdeplot(elder_credit2['credit_amount'].loc[elder_credit2['risk'] == 'good'], shade=True, color=\"g\",ax =ax6[1][1])   \n",
    "sns.kdeplot(elder_credit2['credit_amount'].loc[elder_credit2['risk'] == 'bad'], shade=True, color=\"r\",ax =ax6[1][1])  \n",
    "ax6[1][1].title.set_text('Elder')\n",
    "ax6[1][1].legend(['Good','Bad'])"
   ]
  },
  {
   "cell_type": "code",
   "execution_count": 161,
   "metadata": {},
   "outputs": [],
   "source": [
    "class FillNAMostCommon(BaseEstimator, TransformerMixin):\n",
    "    \n",
    "    def fit(self, X, y=None):\n",
    "        return self\n",
    "    \n",
    "    def transform(self, X, y=None):\n",
    "        most_common_cc = X['checking_account'].value_counts().index[0]\n",
    "        X = X.fillna(value=most_common_cc)\n",
    "        most_common_cp = X['saving_accounts'].value_counts().index[0]\n",
    "        X = X.fillna(value=most_common_cp)\n",
    "        \n",
    "        return X\n",
    "\n",
    "filler_common = FillNAMostCommon()\n",
    "df_filled = filler_common.transform(df)"
   ]
  },
  {
   "cell_type": "markdown",
   "metadata": {},
   "source": [
    "We're going to try a naive approch to fill the null values, probably the predictions won't be good. \n",
    "We have taken the function from:https://www.kaggle.com/thiagopanini/credit-risk-analysis-eda-full-pipeline\n"
   ]
  },
  {
   "cell_type": "code",
   "execution_count": 162,
   "metadata": {},
   "outputs": [
    {
     "name": "stdout",
     "output_type": "stream",
     "text": [
      "age                 0\n",
      "sex                 0\n",
      "job                 0\n",
      "housing             0\n",
      "saving_accounts     0\n",
      "checking_account    0\n",
      "credit_amount       0\n",
      "duration            0\n",
      "purpose             0\n",
      "risk                0\n",
      "Age_Group           0\n",
      "dtype: int64\n"
     ]
    }
   ],
   "source": [
    "print(df_filled.isnull().sum())"
   ]
  },
  {
   "cell_type": "code",
   "execution_count": 168,
   "metadata": {},
   "outputs": [
    {
     "name": "stdout",
     "output_type": "stream",
     "text": [
      "   age     sex  job housing saving_accounts checking_account  credit_amount  \\\n",
      "0   67    male    2     own          little           little           1169   \n",
      "1   22  female    2     own          little         moderate           5951   \n",
      "2   49    male    1     own          little           little           2096   \n",
      "3   45    male    2    free          little           little           7882   \n",
      "4   53    male    2    free          little           little           4870   \n",
      "\n",
      "   duration              purpose Age_Group  \n",
      "0         6             radio/TV     Elder  \n",
      "1        48             radio/TV     Young  \n",
      "2        12            education    Senior  \n",
      "3        42  furniture/equipment    Senior  \n",
      "4        24                  car    Senior  \n"
     ]
    }
   ],
   "source": [
    "# Indexing data\n",
    "X = df_filled.drop('risk',1)\n",
    "y = df_filled.iloc[:, -2]\n",
    "\n",
    "# Changing label\n",
    "y = (y == 'bad')*1\n",
    "\n",
    "print(X.head())\n",
    "\n",
    "\n",
    "#bad risk = 0\n",
    "#good risk = 1"
   ]
  },
  {
   "cell_type": "code",
   "execution_count": 164,
   "metadata": {},
   "outputs": [
    {
     "name": "stdout",
     "output_type": "stream",
     "text": [
      "X_train shape: (800, 10)\n",
      "X_test shape: (200, 10)\n",
      "\n",
      "y_train shape: (800,)\n",
      "y_test shape: (200,)\n"
     ]
    }
   ],
   "source": [
    "# Splitting data\n",
    "X_train, X_test, y_train, y_test = train_test_split(X, y, test_size=.20, random_state=42)\n",
    "\n",
    "# Verifying\n",
    "print(f'X_train shape: {X_train.shape}')\n",
    "print(f'X_test shape: {X_test.shape}')\n",
    "print(f'\\ny_train shape: {y_train.shape}')\n",
    "print(f'y_test shape: {y_test.shape}')"
   ]
  },
  {
   "cell_type": "markdown",
   "metadata": {},
   "source": []
  },
  {
   "cell_type": "code",
   "execution_count": 176,
   "metadata": {},
   "outputs": [
    {
     "data": {
      "text/plain": [
       "(800, 27)"
      ]
     },
     "execution_count": 176,
     "metadata": {},
     "output_type": "execute_result"
    }
   ],
   "source": [
    "from sklearn.preprocessing import StandardScaler, OneHotEncoder\n",
    "from sklearn.compose import ColumnTransformer, make_column_transformer\n",
    "\n",
    "# Preparing pipeline\n",
    "num_attribs = ['age', 'credit_amount', 'duration']\n",
    "cat_attribs = ['sex', 'job', 'housing', 'saving_accounts', \n",
    "               'checking_account', 'purpose']\n",
    "\n",
    "\n",
    "preprocess = make_column_transformer(\n",
    "    (num_attribs, StandardScaler()),\n",
    "    (cat_attribs, OneHotEncoder())\n",
    ")\n",
    "X_train_prepared = preprocess.fit_transform(X_train)\n",
    "X_test_prepared = preprocess.fit_transform(X_test)\n",
    "\n",
    "X_train_prepared.shape\n"
   ]
  },
  {
   "cell_type": "code",
   "execution_count": 177,
   "metadata": {},
   "outputs": [
    {
     "name": "stdout",
     "output_type": "stream",
     "text": [
      "0.695\n"
     ]
    },
    {
     "data": {
      "image/png": "[encoded data removed]",
      "text/plain": [
       "<Figure size 432x288 with 1 Axes>"
      ]
     },
     "metadata": {
      "needs_background": "light"
     },
     "output_type": "display_data"
    }
   ],
   "source": [
    "from sklearn.linear_model import LogisticRegression\n",
    "\n",
    "logisticRegr = LogisticRegression()\n",
    "logisticRegr.fit(X_train_prepared, y_train)\n",
    "\n",
    "Y_pred_prob = logisticRegr.predict(X_test_prepared)#[:,1]\n",
    "score = logisticRegr.score(X_test_prepared, y_test)\n",
    "print(score)\n",
    "fpr, tpr, thresholds = roc_curve(y_test, Y_pred_prob)\n",
    "# Plot ROC curve\n",
    "plt.plot([0, 1], [0, 1], 'k--')\n",
    "plt.plot(fpr, tpr)\n",
    "plt.xlabel('False Positive Rate')\n",
    "plt.ylabel('True Positive Rate')\n",
    "plt.title('ROC')\n",
    "plt.show()"
   ]
  },
  {
   "cell_type": "code",
   "execution_count": 179,
   "metadata": {},
   "outputs": [
    {
     "name": "stdout",
     "output_type": "stream",
     "text": [
      "Model Accuracy: 0.69\n",
      "\n",
      "Precision: 0.46\n",
      "\n",
      "Recall: 0.22\n",
      "\n",
      "f1_score: 0.30\n"
     ]
    }
   ],
   "source": [
    "accuracy = accuracy_score(Y_pred_prob, y_test)\n",
    "print(f'Model Accuracy: {accuracy:.2f}')\n",
    "p_score = precision_score(y_test, Y_pred_prob)\n",
    "print(f'\\nPrecision: {p_score:.2f}')\n",
    "\n",
    "r_score = recall_score(y_test, Y_pred_prob)\n",
    "print(f'\\nRecall: {r_score:.2f}')\n",
    "\n",
    "f_score = f1_score(y_test, Y_pred_prob)\n",
    "print(f'\\nf1_score: {f_score:.2f}')"
   ]
  },
  {
   "cell_type": "markdown",
   "metadata": {},
   "source": [
    "\n",
    "The predictions are not good, as you can see. We have to work on the model, especially on the preprocessing. I am open to any suggestions for improvement."
   ]
  },
  {
   "cell_type": "code",
   "execution_count": null,
   "metadata": {},
   "outputs": [],
   "source": []
  }
 ],
 "metadata": {
  "kernelspec": {
   "display_name": "Python 3",
   "language": "python",
   "name": "python3"
  },
  "language_info": {
   "codemirror_mode": {
    "name": "ipython",
    "version": 3
   },
   "file_extension": ".py",
   "mimetype": "text/x-python",
   "name": "python",
   "nbconvert_exporter": "python",
   "pygments_lexer": "ipython3",
   "version": "3.6.8"
  }
 },
 "nbformat": 4,
 "nbformat_minor": 2
}
